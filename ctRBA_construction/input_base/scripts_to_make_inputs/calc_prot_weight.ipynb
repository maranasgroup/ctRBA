{
 "cells": [
  {
   "attachments": {},
   "cell_type": "markdown",
   "metadata": {},
   "source": [
    "# Written to calculate weight of a protein sequence\n",
    "## Written by: Wheaton Schroeder\n",
    "## Latest version: 06/21/2023"
   ]
  },
  {
   "attachments": {},
   "cell_type": "markdown",
   "metadata": {},
   "source": [
    "#### Import packages"
   ]
  },
  {
   "cell_type": "code",
   "execution_count": 1,
   "metadata": {},
   "outputs": [
    {
     "name": "stdout",
     "output_type": "stream",
     "text": [
      "success\n"
     ]
    }
   ],
   "source": [
    "#import necessary packages\n",
    "\n",
    "import pandas as pd\n",
    "import numpy as np\n",
    "import cobra\n",
    "from collections import OrderedDict\n",
    "from copy import deepcopy\n",
    "import os\n",
    "import urllib.request\n",
    "import re\n",
    "import certifi\n",
    "import ssl\n",
    "\n",
    "print(\"success\")"
   ]
  },
  {
   "attachments": {},
   "cell_type": "markdown",
   "metadata": {},
   "source": [
    "#### function to read the amino acid weights for caclulating protein mass into a dictionary"
   ]
  },
  {
   "cell_type": "code",
   "execution_count": 2,
   "metadata": {},
   "outputs": [
    {
     "data": {
      "text/plain": [
       "{'A': '72.08',\n",
       " 'C': '104.14',\n",
       " 'D': '115.08',\n",
       " 'E': '129.11',\n",
       " 'F': '148.17',\n",
       " 'G': '58.05',\n",
       " 'H': '138.14',\n",
       " 'I': '114.16',\n",
       " 'K': '130.18',\n",
       " 'L': '114.16',\n",
       " 'M': '132.2',\n",
       " 'N': '115.1',\n",
       " 'P': '98.12',\n",
       " 'Q': '129.13',\n",
       " 'R': '158.19',\n",
       " 'S': '88.08',\n",
       " 'T': '102.1',\n",
       " 'V': '100.13',\n",
       " 'W': '187.21',\n",
       " 'Y': '164.17'}"
      ]
     },
     "execution_count": 2,
     "metadata": {},
     "output_type": "execute_result"
    }
   ],
   "source": [
    "def make_aa_mass_dic():\n",
    "\n",
    "  #initialized the dictionary\n",
    "  aa_mass = {}\n",
    "\n",
    "  #read the model\n",
    "  file_handle = open('PROTEIN_amino_acid_map.txt','r')\n",
    "\n",
    "  #read the full model into a string\n",
    "  aa_map_str = file_handle.readlines()\n",
    "\n",
    "  #count lines\n",
    "  line_count = 0\n",
    "\n",
    "  #for each line\n",
    "  for line in aa_map_str:\n",
    "\n",
    "    #skip the first line, as it is a header\n",
    "    if line_count == 0:\n",
    "\n",
    "      line_count += 1\n",
    "\n",
    "    else:\n",
    "\n",
    "      #here we read the file\n",
    "      #split by spaces, we want the first and last items\n",
    "      items = re.split(\"\\s+\",line.strip())\n",
    "\n",
    "      aa_mass[items[0]] = items[-1]\n",
    "\n",
    "  return aa_mass\n",
    "\n",
    "aa_mass = make_aa_mass_dic()\n",
    "\n",
    "aa_mass"
   ]
  },
  {
   "attachments": {},
   "cell_type": "markdown",
   "metadata": {},
   "source": [
    "#### function to calculate weight of protiens in g/mmol from amino acid sequence"
   ]
  },
  {
   "cell_type": "code",
   "execution_count": 3,
   "metadata": {},
   "outputs": [
    {
     "name": "stdout",
     "output_type": "stream",
     "text": [
      "Example mass of protein from Clo1313_1396 calculated as: 73.03244999999998 kDa\n"
     ]
    }
   ],
   "source": [
    "def calc_aa_mass(aaseq, mass_dict):\n",
    "\n",
    "  #search in the sequence for each of the amino acids\n",
    "  #note: need float here, otherwise writes the weight a number of times equal to mass_dict['A'], seems to automatically treat things as a string\n",
    "  mass_a = len(re.findall(r'A', aaseq)) * float(mass_dict['A'])\n",
    "  mass_c = len(re.findall(r'C', aaseq)) * float(mass_dict['C'])\n",
    "  mass_d = len(re.findall(r'D', aaseq)) * float(mass_dict['D'])\n",
    "  mass_e = len(re.findall(r'E', aaseq)) * float(mass_dict['E'])\n",
    "  mass_f = len(re.findall(r'F', aaseq)) * float(mass_dict['F'])\n",
    "  mass_g = len(re.findall(r'G', aaseq)) * float(mass_dict['G'])\n",
    "  mass_h = len(re.findall(r'H', aaseq)) * float(mass_dict['H'])\n",
    "  mass_i = len(re.findall(r'I', aaseq)) * float(mass_dict['I'])\n",
    "  mass_k = len(re.findall(r'K', aaseq)) * float(mass_dict['K'])\n",
    "  mass_l = len(re.findall(r'L', aaseq)) * float(mass_dict['L'])\n",
    "  mass_m = len(re.findall(r'M', aaseq)) * float(mass_dict['M'])\n",
    "  mass_n = len(re.findall(r'N', aaseq)) * float(mass_dict['N'])\n",
    "  mass_p = len(re.findall(r'P', aaseq)) * float(mass_dict['P'])\n",
    "  mass_q = len(re.findall(r'Q', aaseq)) * float(mass_dict['Q'])\n",
    "  mass_r = len(re.findall(r'R', aaseq)) * float(mass_dict['R'])\n",
    "  mass_s = len(re.findall(r'S', aaseq)) * float(mass_dict['S'])\n",
    "  mass_t = len(re.findall(r'T', aaseq)) * float(mass_dict['T'])\n",
    "  mass_v = len(re.findall(r'V', aaseq)) * float(mass_dict['V'])\n",
    "  mass_w = len(re.findall(r'W', aaseq)) * float(mass_dict['W'])\n",
    "  mass_y = len(re.findall(r'Y', aaseq)) * float(mass_dict['Y'])\n",
    "  mass_a = mass_a + len(re.findall(r'a', aaseq)) * float(mass_dict['A'])\n",
    "  mass_c = mass_c + len(re.findall(r'c', aaseq)) * float(mass_dict['C'])\n",
    "  mass_d = mass_d + len(re.findall(r'd', aaseq)) * float(mass_dict['D'])\n",
    "  mass_e = mass_e + len(re.findall(r'e', aaseq)) * float(mass_dict['E'])\n",
    "  mass_f = mass_f + len(re.findall(r'f', aaseq)) * float(mass_dict['F'])\n",
    "  mass_g = mass_g + len(re.findall(r'g', aaseq)) * float(mass_dict['G'])\n",
    "  mass_h = mass_h + len(re.findall(r'h', aaseq)) * float(mass_dict['H'])\n",
    "  mass_i = mass_i + len(re.findall(r'i', aaseq)) * float(mass_dict['I'])\n",
    "  mass_k = mass_k + len(re.findall(r'k', aaseq)) * float(mass_dict['K'])\n",
    "  mass_l = mass_l + len(re.findall(r'l', aaseq)) * float(mass_dict['L'])\n",
    "  mass_m = mass_m + len(re.findall(r'm', aaseq)) * float(mass_dict['M'])\n",
    "  mass_n = mass_n + len(re.findall(r'n', aaseq)) * float(mass_dict['N'])\n",
    "  mass_p = mass_p + len(re.findall(r'p', aaseq)) * float(mass_dict['P'])\n",
    "  mass_q = mass_q + len(re.findall(r'q', aaseq)) * float(mass_dict['Q'])\n",
    "  mass_r = mass_r + len(re.findall(r'r', aaseq)) * float(mass_dict['R'])\n",
    "  mass_s = mass_s + len(re.findall(r's', aaseq)) * float(mass_dict['S'])\n",
    "  mass_t = mass_t + len(re.findall(r't', aaseq)) * float(mass_dict['T'])\n",
    "  mass_v = mass_v + len(re.findall(r'v', aaseq)) * float(mass_dict['V'])\n",
    "  mass_w = mass_w + len(re.findall(r'w', aaseq)) * float(mass_dict['W'])\n",
    "  mass_y = mass_y + len(re.findall(r'y', aaseq)) * float(mass_dict['Y'])\n",
    "\n",
    "  mass = float(mass_a) + float(mass_c) + float(mass_d) + float(mass_e) + float(mass_f) + float(mass_g) + float(mass_h) + float(mass_i) + float(mass_k) + float(mass_l) + float(mass_m) + float(mass_n) + float(mass_p) + float(mass_q) + float(mass_r) + float(mass_s) + float(mass_t) + float(mass_v) + float(mass_w) + float(mass_y)\n",
    "\n",
    "  #so far, mass is at g/mol, need to divide by 1000 to get the g/mmol\n",
    "\n",
    "  mass = mass/1000\n",
    "\n",
    "  return mass\n",
    "\n",
    "\n",
    "#test this function using Clo1313_1396\n",
    "mass = calc_aa_mass('MSRMTLKSSMKKRILSLVIAVVFLSLTGVFPSGLIETKVSAAKITENYQFDSRIRLNSIGFIPNHSKKATIAANCSTFYVVKEDGTIVYTGTATSMFDNDTKETVYIADFSSVNEEGTYYLAVPGVGKSVNFKIAMNVYEDAFKTAMLGMYLLRCGTSVSATYNGIHYSHGPCHTNDAYLDYINGQHTKKDSTKGWHDAGDYNKYVVNAGITVGSMFLAWEHFKDQLEPVALEIPEKNNSIPDFLDELKYEIDWILTMQYPDGSGRVAHKVSTRNFGGFIMPENEHDERFFVPWSSAATADFVAMTAMAARIFRPYDPQYAEKCINAAKVSYEFLKNNPANVFANQSGFSTGEYATVSDADDRLWAAAEMWETLGDEEYLRDFENRAAQFSKKIEADFDWDNVANLGMFTYLLSERPGKNPALVQSIKDSLLSTADSIVRTSQNHGYGRTLGTTYYWGCNGTVVRQTMILQVANKISPNNDYVNAALDAISHVFGRNYYNRSYVTGLGINPPMNPHDRRSGADGIWEPWPGYLVGGGWPGPKDWVDIQDSYQTNEIAINWNAALIYALAGFVNYNSAQNEVLYGDVNDDGKVNSTDLTLLKRYVLKAVSTLPSSKAEKNADVNRDGRVNSSDVTILSRYLIRVIEKLPI', make_aa_mass_dic())\n",
    "\n",
    "print(\"Example mass of protein from Clo1313_1396 calculated as: \"+str(mass)+\" kDa\")"
   ]
  },
  {
   "attachments": {},
   "cell_type": "markdown",
   "metadata": {},
   "source": [
    "#### Calculate protein mass"
   ]
  },
  {
   "cell_type": "code",
   "execution_count": 29,
   "metadata": {},
   "outputs": [
    {
     "data": {
      "text/plain": [
       "96.79497000000002"
      ]
     },
     "execution_count": 29,
     "metadata": {},
     "output_type": "execute_result"
    }
   ],
   "source": [
    "aa_seq = 'MTKIANKYEVIDNVEKLEKALKRLREAQSVYATYTQEQVDKIFFEAAMAANKMRIPLAKMAVEETGMGVVEDKVIKNHYASEYIYNAYKNTKTCGVIEEDPAFGIKKIAEPLGVIAAVIPTTNPTSTAIFKTLIALKTRNAIIISPHPRAKNSTIEAAKIVLEAAVKAGAPEGIIGWIDVPSLELTNLVMREADVILATGGPGLVKAAYSSGKPAIGVGAGNTPAIIDDSADIVLAVNSIIHSKTFDNGMICASEQSVIVLDGVYKEVKKEFEKRGCYFLNEDETEKVRKTIIINGALNAKIVGQKAHTIANLAGFEVPETTKILIGEVTSVDISEEFAHEKLCPVLAMYRAKDFDDALDKAERLVADGGFGHTSSLYIDTVTQKEKLQKFSERMKTCRILVNTPSSQGGIGDLYNFKLAPSLTLGCGSWGGNSVSDNVGVKHLLNIKTVAERRENMLWFRTPEKIYIKRGCLPVALDELKNVMGKKKAFIVTGNFLYNNGYTKPITDKLDEMGIVHKTFFDVSPDPSLASAKAGAAEMLAFQPDTIIAVGGGSAMDAAKIMWVMYEHPEVDFMDMAMRFMDIRKRVYTFPKMGQKAYFIAIPTSAGTGSEVTPFAVITDEKTGIKYPLADYELLPDMAIVDADMMMNAPKGLTAASGIDALTHALEAYVSMLATDYTDSLALRAIKMIFEYLPRAYENGASDPVAREKMANAATIAGMAFANAFLGVCHSMAHKLGAFYHLPHGVANALMINEVIRFNSSEAPTKMGTFPQYDHPRTLERYAEIADYIGLKGKNNEEKVENLIKAIDELKEKVGIRKTIKDYDIDEKEFLDRLDEMVEQAFDDQCTGTNPRYPLMNEIRQMYLNAYYGGAKK'\n",
    "\n",
    "mass = calc_aa_mass(aa_seq,make_aa_mass_dic())\n",
    "\n",
    "mass"
   ]
  },
  {
   "cell_type": "code",
   "execution_count": 5,
   "metadata": {},
   "outputs": [
    {
     "data": {
      "text/plain": [
       "375"
      ]
     },
     "execution_count": 5,
     "metadata": {},
     "output_type": "execute_result"
    }
   ],
   "source": [
    "aa_seq.count('')"
   ]
  },
  {
   "cell_type": "markdown",
   "metadata": {},
   "source": [
    "#### Count amino acids by type used to build new sequences for knocked in genes manually"
   ]
  },
  {
   "cell_type": "code",
   "execution_count": 6,
   "metadata": {},
   "outputs": [
    {
     "name": "stdout",
     "output_type": "stream",
     "text": [
      "ala =  41\n"
     ]
    }
   ],
   "source": [
    "res = aa_seq.count('A')\n",
    "print (\"ala = \",res)"
   ]
  },
  {
   "cell_type": "code",
   "execution_count": 7,
   "metadata": {},
   "outputs": [
    {
     "name": "stdout",
     "output_type": "stream",
     "text": [
      "cys =  4\n"
     ]
    }
   ],
   "source": [
    "res = aa_seq.count('C')\n",
    "print (\"cys = \",res)"
   ]
  },
  {
   "cell_type": "code",
   "execution_count": 8,
   "metadata": {},
   "outputs": [
    {
     "name": "stdout",
     "output_type": "stream",
     "text": [
      "asp =  26\n"
     ]
    }
   ],
   "source": [
    "res = aa_seq.count('D')\n",
    "print (\"asp = \",res)"
   ]
  },
  {
   "cell_type": "code",
   "execution_count": 9,
   "metadata": {},
   "outputs": [
    {
     "name": "stdout",
     "output_type": "stream",
     "text": [
      "glu =  13\n"
     ]
    }
   ],
   "source": [
    "res = aa_seq.count('E')\n",
    "print (\"glu = \",res)"
   ]
  },
  {
   "cell_type": "code",
   "execution_count": 10,
   "metadata": {},
   "outputs": [
    {
     "name": "stdout",
     "output_type": "stream",
     "text": [
      "phe =  11\n"
     ]
    }
   ],
   "source": [
    "res = aa_seq.count('F')\n",
    "print (\"phe = \",res)"
   ]
  },
  {
   "cell_type": "code",
   "execution_count": 11,
   "metadata": {},
   "outputs": [
    {
     "name": "stdout",
     "output_type": "stream",
     "text": [
      "gly =  27\n"
     ]
    }
   ],
   "source": [
    "res = aa_seq.count('G')\n",
    "print (\"gly = \",res)"
   ]
  },
  {
   "cell_type": "code",
   "execution_count": 12,
   "metadata": {},
   "outputs": [
    {
     "name": "stdout",
     "output_type": "stream",
     "text": [
      "his =  8\n"
     ]
    }
   ],
   "source": [
    "res = aa_seq.count('H')\n",
    "print (\"his = \",res)"
   ]
  },
  {
   "cell_type": "code",
   "execution_count": 13,
   "metadata": {},
   "outputs": [
    {
     "name": "stdout",
     "output_type": "stream",
     "text": [
      "ile =  21\n"
     ]
    }
   ],
   "source": [
    "res = aa_seq.count('I')\n",
    "print (\"ile = \",res)"
   ]
  },
  {
   "cell_type": "code",
   "execution_count": 14,
   "metadata": {},
   "outputs": [
    {
     "name": "stdout",
     "output_type": "stream",
     "text": [
      "lys =  30\n"
     ]
    }
   ],
   "source": [
    "res = aa_seq.count('K')\n",
    "print (\"lys = \",res)"
   ]
  },
  {
   "cell_type": "code",
   "execution_count": 15,
   "metadata": {},
   "outputs": [
    {
     "name": "stdout",
     "output_type": "stream",
     "text": [
      "leu =  26\n"
     ]
    }
   ],
   "source": [
    "res = aa_seq.count('L')\n",
    "print (\"leu = \",res)"
   ]
  },
  {
   "cell_type": "code",
   "execution_count": 16,
   "metadata": {},
   "outputs": [
    {
     "name": "stdout",
     "output_type": "stream",
     "text": [
      "met =  9\n"
     ]
    }
   ],
   "source": [
    "res = aa_seq.count('M')\n",
    "print (\"met = \",res)"
   ]
  },
  {
   "cell_type": "code",
   "execution_count": 17,
   "metadata": {},
   "outputs": [
    {
     "name": "stdout",
     "output_type": "stream",
     "text": [
      "asn =  13\n"
     ]
    }
   ],
   "source": [
    "res = aa_seq.count('N')\n",
    "print (\"asn = \",res)"
   ]
  },
  {
   "cell_type": "code",
   "execution_count": 18,
   "metadata": {},
   "outputs": [
    {
     "name": "stdout",
     "output_type": "stream",
     "text": [
      "pro =  12\n"
     ]
    }
   ],
   "source": [
    "res = aa_seq.count('P')\n",
    "print (\"pro = \",res)"
   ]
  },
  {
   "cell_type": "code",
   "execution_count": 19,
   "metadata": {},
   "outputs": [
    {
     "name": "stdout",
     "output_type": "stream",
     "text": [
      "gln =  11\n"
     ]
    }
   ],
   "source": [
    "res = aa_seq.count('Q')\n",
    "print (\"gln = \",res)"
   ]
  },
  {
   "cell_type": "code",
   "execution_count": 20,
   "metadata": {},
   "outputs": [
    {
     "name": "stdout",
     "output_type": "stream",
     "text": [
      "arg =  17\n"
     ]
    }
   ],
   "source": [
    "res = aa_seq.count('R')\n",
    "print (\"arg = \",res)"
   ]
  },
  {
   "cell_type": "code",
   "execution_count": 21,
   "metadata": {},
   "outputs": [
    {
     "name": "stdout",
     "output_type": "stream",
     "text": [
      "ser =  25\n"
     ]
    }
   ],
   "source": [
    "res = aa_seq.count('S')\n",
    "print (\"ser = \",res)"
   ]
  },
  {
   "cell_type": "code",
   "execution_count": 22,
   "metadata": {},
   "outputs": [
    {
     "name": "stdout",
     "output_type": "stream",
     "text": [
      "thr =  24\n"
     ]
    }
   ],
   "source": [
    "res = aa_seq.count('T')\n",
    "print (\"thr = \",res)"
   ]
  },
  {
   "cell_type": "code",
   "execution_count": 23,
   "metadata": {},
   "outputs": [
    {
     "name": "stdout",
     "output_type": "stream",
     "text": [
      "trp =  5\n"
     ]
    }
   ],
   "source": [
    "res = aa_seq.count('W')\n",
    "print (\"trp = \",res)"
   ]
  },
  {
   "cell_type": "code",
   "execution_count": 24,
   "metadata": {},
   "outputs": [
    {
     "name": "stdout",
     "output_type": "stream",
     "text": [
      "val =  45\n"
     ]
    }
   ],
   "source": [
    "res = aa_seq.count('V')\n",
    "print (\"val = \",res)"
   ]
  },
  {
   "cell_type": "code",
   "execution_count": 25,
   "metadata": {},
   "outputs": [
    {
     "name": "stdout",
     "output_type": "stream",
     "text": [
      "tyr =  6\n"
     ]
    }
   ],
   "source": [
    "res = aa_seq.count('Y')\n",
    "print (\"tyr = \",res)"
   ]
  }
 ],
 "metadata": {
  "interpreter": {
   "hash": "27ae95800265d75f17c257667d2a73fc88cf81d4714b972fc3e1061f24db276b"
  },
  "kernelspec": {
   "display_name": "Python 3.9.8 64-bit",
   "language": "python",
   "name": "python3"
  },
  "language_info": {
   "codemirror_mode": {
    "name": "ipython",
    "version": 3
   },
   "file_extension": ".py",
   "mimetype": "text/x-python",
   "name": "python",
   "nbconvert_exporter": "python",
   "pygments_lexer": "ipython3",
   "version": "3.11.9"
  },
  "orig_nbformat": 4
 },
 "nbformat": 4,
 "nbformat_minor": 2
}
