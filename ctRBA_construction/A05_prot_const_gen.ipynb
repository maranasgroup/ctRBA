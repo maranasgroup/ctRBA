{
 "cells": [
  {
   "cell_type": "code",
   "execution_count": 4,
   "id": "3aecfdb9-56bf-48bd-8dd8-fb238b3a3819",
   "metadata": {},
   "outputs": [],
   "source": [
    "import pandas as pd\n",
    "\n",
    "cellulosome_cb = pd.read_excel(\"input_base/prot_trans_const_file.xlsx\", sheet_name = \"Cellulosome Requirements CB\")\n",
    "cellulosome_av = pd.read_excel(\"input_base/prot_trans_const_file.xlsx\", sheet_name = \"Cellulosome Requirements AV\")\n",
    "metabolic_cb = pd.read_excel(\"input_base/prot_trans_const_file.xlsx\", sheet_name = \"Metabolic Requirements CB\")\n",
    "metabolic_av = pd.read_excel(\"input_base/prot_trans_const_file.xlsx\", sheet_name = \"Metabolic Requirements AV\")\n",
    "ribosomal = pd.read_excel(\"input_base/prot_trans_const_file.xlsx\", sheet_name = \"Ribosomal Proteins\")"
   ]
  },
  {
   "cell_type": "code",
   "execution_count": 5,
   "id": "f199bda6-d42f-4857-90cc-c027a6bde141",
   "metadata": {},
   "outputs": [],
   "source": [
    "with open('model_base/prot_exp_flux_cell_cb.txt', 'w') as file:\n",
    "    line = f\"/\\n\"\n",
    "    file.write(line)\n",
    "    for index, row in cellulosome_cb.iterrows():\n",
    "        line = f\"'PROSYN-{row['Cellulosome Protein']}'\\t{row['Flux (mmol/(gDW hr)']}\\n\"\n",
    "        file.write(line)\n",
    "    file.write(\"/\")"
   ]
  },
  {
   "cell_type": "code",
   "execution_count": 6,
   "id": "43fe0121-2c0a-418d-bcad-164bad181ac4",
   "metadata": {},
   "outputs": [],
   "source": [
    "with open('model_base/prot_exp_flux_cell_av.txt', 'w') as file:\n",
    "    line = f\"/\\n\"\n",
    "    file.write(line)\n",
    "    for index, row in cellulosome_av.iterrows():\n",
    "        line = f\"'PROSYN-{row['Cellulosome Protein']}'\\t{row['AV Flux (mmol/(gDW hr))']}\\n\"\n",
    "        file.write(line)\n",
    "    file.write(\"/\")"
   ]
  },
  {
   "cell_type": "code",
   "execution_count": 7,
   "id": "e2d07dc2-499e-4430-a9f3-44b7b3700bb6",
   "metadata": {},
   "outputs": [],
   "source": [
    "with open('model_base/prot_exp_flux_met_cb.txt', 'w') as file:\n",
    "    line = f\"/\\n\"\n",
    "    file.write(line)\n",
    "    for index, row in metabolic_cb.iterrows():\n",
    "        line = f\"'PROSYN-{row['Metabolic Protein']}'\\t{row['Flux (mmol/(gDW hr)']}\\n\"\n",
    "        file.write(line)\n",
    "    file.write(\"/\")"
   ]
  },
  {
   "cell_type": "code",
   "execution_count": 8,
   "id": "626c7870-b9e1-46a2-9776-a90ce7bc64d1",
   "metadata": {},
   "outputs": [],
   "source": [
    "with open('model_base/prot_exp_flux_met_av.txt', 'w') as file:\n",
    "    line = f\"/\\n\"\n",
    "    file.write(line)\n",
    "    for index, row in metabolic_av.iterrows():\n",
    "        line = f\"'PROSYN-{row['Metabolic Proteins']}'\\t{row['Flux (mmol/(gDW hr)']}\\n\"\n",
    "        file.write(line)\n",
    "    file.write(\"/\")"
   ]
  },
  {
   "cell_type": "code",
   "execution_count": 9,
   "id": "02001d76-8ba3-4414-8123-f2f11711e456",
   "metadata": {},
   "outputs": [],
   "source": [
    "with open('model_base/RBA_rxns_prosyn_cell.txt', 'w') as file:\n",
    "    line = f\"/\\n\"\n",
    "    file.write(line)\n",
    "    for index, row in cellulosome_cb.iterrows():\n",
    "        line = f\"'PROSYN-{row['Cellulosome Protein']}'\\n\"\n",
    "        file.write(line)\n",
    "    file.write(\"/\")"
   ]
  },
  {
   "cell_type": "code",
   "execution_count": 11,
   "id": "d9b457fe-bd4b-45e6-95b2-15bf7963c2e3",
   "metadata": {},
   "outputs": [],
   "source": [
    "with open('model_base/RBA_rxns_prosyn_met.txt', 'w') as file:\n",
    "    line = f\"/\\n\"\n",
    "    file.write(line)\n",
    "    for index, row in metabolic_cb.iterrows():\n",
    "        line = f\"'PROSYN-{row['Metabolic Protein']}'\\n\"\n",
    "        file.write(line)\n",
    "    file.write(\"/\")"
   ]
  },
  {
   "cell_type": "code",
   "execution_count": 12,
   "id": "cc70581b-a80b-49e3-94fd-5bd7d21cb7c9",
   "metadata": {},
   "outputs": [],
   "source": [
    "with open('model_base/RBA_rxns_prosyn_ribo.txt', 'w') as file:\n",
    "    line = f\"/\\n\"\n",
    "    file.write(line)\n",
    "    for index, row in ribosomal.iterrows():\n",
    "        line = f\"'PROSYN-{row['Ribosomal Proteins']}'\\n\"\n",
    "        file.write(line)\n",
    "    file.write(\"/\")"
   ]
  },
  {
   "cell_type": "code",
   "execution_count": null,
   "id": "63e1aac6-5ac5-4b7e-bbd3-cd66e19c5404",
   "metadata": {},
   "outputs": [],
   "source": []
  },
  {
   "cell_type": "code",
   "execution_count": null,
   "id": "1d6a9ec4-fb0d-4c08-b1a8-b9019a4b3d1b",
   "metadata": {},
   "outputs": [],
   "source": []
  }
 ],
 "metadata": {
  "kernelspec": {
   "display_name": "Python 3 (ipykernel)",
   "language": "python",
   "name": "python3"
  },
  "language_info": {
   "codemirror_mode": {
    "name": "ipython",
    "version": 3
   },
   "file_extension": ".py",
   "mimetype": "text/x-python",
   "name": "python",
   "nbconvert_exporter": "python",
   "pygments_lexer": "ipython3",
   "version": "3.10.13"
  }
 },
 "nbformat": 4,
 "nbformat_minor": 5
}
