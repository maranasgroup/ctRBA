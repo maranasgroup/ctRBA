{
 "cells": [
  {
   "cell_type": "code",
   "execution_count": 1,
   "metadata": {},
   "outputs": [],
   "source": [
    "import pandas as pd\n",
    "from custom_functions_scRBA import *\n",
    "import shutil"
   ]
  },
  {
   "cell_type": "code",
   "execution_count": 2,
   "metadata": {},
   "outputs": [],
   "source": [
    "#define default in and out folders\n",
    "def_in = \"input_base\"\n",
    "def_out = \"model_base\""
   ]
  },
  {
   "cell_type": "code",
   "execution_count": 3,
   "metadata": {},
   "outputs": [],
   "source": [
    "#### LOAD INPUTS AND PARAMETERS\n",
    "# Stoichiometry\n",
    "df_stoich = pd.read_excel('./'+def_out+'/RBA_stoichiometry.xlsx')\n",
    "df_stoich.index = df_stoich.id.to_list()\n",
    "\n",
    "# Ribosome efficiency (amino acids translated per active ribosome per second)\n",
    "# (script will convert the unit to per hour) (obsolete / implement directly in GAMS file now)\n",
    "# kribo = 10.5\n",
    "\n",
    "# Dummy protein's length (assigned to be the median protein length)\n",
    "#taken from protein_dummy_prot_calc_ctherm\n",
    "NAA_dummy = 276"
   ]
  },
  {
   "cell_type": "code",
   "execution_count": 4,
   "metadata": {},
   "outputs": [],
   "source": [
    "### Enzyme synthesis requirement coupled to metabolic reaction rate\n",
    "idx = df_stoich[df_stoich.coupling_type == 'rxn_enz'].index\n",
    "eqn_list = []\n",
    "eqn_list_bi = []        #equation list for running the bisection method\n",
    "kapp_list = []\n",
    "eqn_list_equality = []\n",
    "\n",
    "for i in idx:\n",
    "\n",
    "    #for debugging, comment out when not used\n",
    "    #print(\"df_stoich: \",df_stoich.id[i][4:])\n",
    "    \n",
    "    lhs = \"v('ENZLOAD-\" + df_stoich.id[i][4:] + \"') * \" + \"kapp('\" + i + \"')\"\n",
    "    rhs = \"%mu% * v('\" + i + \"')\"\n",
    "    rhs_bi = \"mu * v('\" + i + \"')\"\n",
    "    eqn_list.append(lhs + ' =g= ' + rhs + ';')\n",
    "    eqn_list_bi.append(lhs + ' =g= ' + rhs_bi + ';')\n",
    "    eqn_list_equality.append(lhs + ' =e= ' + rhs + ';')\n",
    "\n",
    "    #for debugging, comment out when not used\n",
    "    #print(\"i: \",i,\"\\teqn: \",eqn_list[-1],\"\\t#: \",len(eqn_list))\n",
    "    \n",
    "eqn_idx = ['EnzCap'+str(i) for i in range(0, len(eqn_list))]\n",
    "eqn_list = ['EnzCap'+str(i)+'.. ' + eqn_list[i] for i in range(0, len(eqn_list))]\n",
    "eqn_list_bi = ['EnzCap'+str(i)+'.. ' + eqn_list_bi[i] for i in range(0, len(eqn_list_bi))]\n",
    "eqn_list_equality = ['EnzCap'+str(i)+'.. ' + eqn_list_equality[i] for i in range(0, len(eqn_list_equality))]\n",
    "\n",
    "#write constraints file\n",
    "with open('./'+def_out+'/RBA_enzCapacityConstraints_declares.txt', 'w') as f:\n",
    "    f.write('\\n'.join(eqn_idx))\n",
    "\n",
    "#write constraint equations file\n",
    "with open('./'+def_out+'/RBA_enzCapacityConstraints_eqns.txt', 'w') as f:\n",
    "    f.write('\\n'.join(eqn_list))\n",
    "\n",
    "#write constraint equations file\n",
    "with open('./'+def_out+'/RBA_enzCapacityConstraints_eqns_bi.txt', 'w') as f:\n",
    "    f.write('\\n'.join(eqn_list_bi))\n",
    "    \n",
    "#write equality constraints file\n",
    "with open('./'+def_out+'/RBA_enzCapacityConstraints_eqns_equality_version.txt', 'w') as f:\n",
    "    f.write('\\n'.join(eqn_list_equality))"
   ]
  },
  {
   "cell_type": "code",
   "execution_count": 5,
   "metadata": {},
   "outputs": [],
   "source": [
    "### Write prosyn reaction\n",
    "idx = [i for i in df_stoich.index if i[:7] == 'PROSYN-']\n",
    "prosyn = [\"'\" + i + \"'\" for i in idx]\n",
    "prosyn = ['/'] + prosyn + ['/']\n",
    "with open('./'+def_out+'/RBA_rxns_prosyn.txt', 'w') as f:\n",
    "    f.write('\\n'.join(prosyn))"
   ]
  },
  {
   "cell_type": "code",
   "execution_count": 6,
   "metadata": {},
   "outputs": [
    {
     "data": {
      "text/plain": [
       "'../GAMS/model_base/'"
      ]
     },
     "execution_count": 6,
     "metadata": {},
     "output_type": "execute_result"
    }
   ],
   "source": [
    "#shutil.rmtree('../GAMS/'+def_out)\n",
    "shutil.copytree('./'+def_out+'/',\"../GAMS/\"+def_out+\"/\")"
   ]
  },
  {
   "cell_type": "code",
   "execution_count": null,
   "metadata": {},
   "outputs": [],
   "source": []
  },
  {
   "cell_type": "code",
   "execution_count": null,
   "metadata": {},
   "outputs": [],
   "source": []
  }
 ],
 "metadata": {
  "kernelspec": {
   "display_name": "Python 3 (ipykernel)",
   "language": "python",
   "name": "python3"
  },
  "language_info": {
   "codemirror_mode": {
    "name": "ipython",
    "version": 3
   },
   "file_extension": ".py",
   "mimetype": "text/x-python",
   "name": "python",
   "nbconvert_exporter": "python",
   "pygments_lexer": "ipython3",
   "version": "3.10.13"
  }
 },
 "nbformat": 4,
 "nbformat_minor": 4
}
